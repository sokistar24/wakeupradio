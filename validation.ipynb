{
 "cells": [
  {
   "cell_type": "code",
   "execution_count": null,
   "metadata": {},
   "outputs": [],
   "source": [
    "import pandas as pd\n",
    "from datetime import datetime\n",
    "\n",
    "# Define the column names as provided\n",
    "column_names = ['date', 'time', 'epoch', 'moteid', 'temperature', 'humidity', 'light', 'voltage']\n",
    "\n",
    "# Load the data with proper column names\n",
    "df = pd.read_csv('data/data.txt', sep=' ', header=None, names=column_names)\n",
    "\n",
    "# Function to parse the time with fallback for different formats\n",
    "def parse_time(time_str):\n",
    "    try:\n",
    "        return datetime.strptime(time_str, '%H:%M:%S.%f').time()\n",
    "    except ValueError:\n",
    "        try:\n",
    "            return datetime.strptime(time_str, '%H:%M:%S').time()\n",
    "        except ValueError:\n",
    "            return None\n",
    "\n",
    "# Apply the function to the 'time' column\n",
    "df['time'] = df['time'].apply(parse_time)\n",
    "\n",
    "# Ensure the 'date' column is parsed correctly\n",
    "df['date'] = pd.to_datetime(df['date'], format='%Y-%m-%d', errors='coerce').dt.date\n",
    "\n",
    "# Ensure correct data types for other columns\n",
    "df['epoch'] = pd.to_numeric(df['epoch'], errors='coerce').astype('Int64')\n",
    "df['moteid'] = pd.to_numeric(df['moteid'], errors='coerce').astype('Int64')\n",
    "df['temperature'] = pd.to_numeric(df['temperature'], errors='coerce')\n",
    "df['humidity'] = pd.to_numeric(df['humidity'], errors='coerce')\n",
    "df['light'] = pd.to_numeric(df['light'], errors='coerce')\n",
    "df['voltage'] = pd.to_numeric(df['voltage'], errors='coerce')\n",
    "\n",
    "# Print the last few rows of the dataframe to verify\n",
    "print(df.tail())\n",
    "\n",
    "# Optionally, handle any rows where the date or time could not be parsed\n",
    "invalid_dates = df[df['date'].isna()]\n",
    "invalid_times = df[df['time'].isna()]\n",
    "\n",
    "print(\"Rows with invalid dates:\")\n",
    "print(invalid_dates)\n",
    "\n",
    "print(\"Rows with invalid times:\")\n",
    "print(invalid_times)\n"
   ]
  }
 ],
 "metadata": {
  "kernelspec": {
   "display_name": "base",
   "language": "python",
   "name": "python3"
  },
  "language_info": {
   "name": "python",
   "version": "3.11.5"
  }
 },
 "nbformat": 4,
 "nbformat_minor": 2
}
