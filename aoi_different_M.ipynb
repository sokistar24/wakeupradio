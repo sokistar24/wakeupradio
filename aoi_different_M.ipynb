{
 "cells": [
  {
   "cell_type": "code",
   "execution_count": null,
   "metadata": {},
   "outputs": [],
   "source": [
    "def run_simulation_for_different_M(num_nodes_to_poll_list):\n",
    "    average_aoii_results = []\n",
    "\n",
    "    for M in num_nodes_to_poll_list:\n",
    "        # Reinitialize trackers and states\n",
    "        state_node, state_sink, last_update_times, aoii_time_tracker, aoii_history = initialize_states(num_nodes)\n",
    "\n",
    "        # Run the simulation\n",
    "        for t in range(len(pivot_df)):\n",
    "            # For each time step, every node updates its state using dEWMA filter with new measurements\n",
    "            for mote in range(1, num_nodes + 1):\n",
    "                column_name = f'mote{mote}'\n",
    "                measured_value = pivot_df.loc[t, column_name]\n",
    "                last_state_value, last_rate_of_change = state_node[column_name]\n",
    "                state_node[column_name] = update_node_state_dewma(measured_value, last_state_value, last_rate_of_change, delta_t=1)\n",
    "\n",
    "            # Poll nodes based on Whittle index and AoII\n",
    "            state_node, state_sink, actual_values, predicted_values, last_update_times, aoii_time_tracker, aoii_history = poll_nodes_whittle(\n",
    "                pivot_df, t, state_node, state_sink, actual_values, predicted_values, M, penalty, last_update_times, aoii_time_tracker, aoii_history\n",
    "            )\n",
    "\n",
    "        # Calculate the average AoII across all nodes\n",
    "        aoii_times = [np.mean(history) for history in aoii_history.values() if history]  # Exclude empty histories\n",
    "        average_aoii_time = np.mean(aoii_times) if aoii_times else 0.0\n",
    "        average_aoii_results.append(average_aoii_time)\n",
    "\n",
    "    return average_aoii_results\n"
   ]
  }
 ],
 "metadata": {
  "language_info": {
   "name": "python"
  }
 },
 "nbformat": 4,
 "nbformat_minor": 2
}
