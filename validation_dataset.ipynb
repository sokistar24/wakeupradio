{
 "cells": [
  {
   "cell_type": "code",
   "execution_count": null,
   "metadata": {},
   "outputs": [],
   "source": [
    "import numpy as np\n",
    "import pandas as pd\n",
    "\n",
    "# Parameters\n",
    "num_nodes = 50\n",
    "num_time_steps = 1000\n",
    "\n",
    "# Initialize DataFrame\n",
    "data = pd.DataFrame(index=range(num_time_steps), columns=[f'mote{i}' for i in range(1, num_nodes + 1)])\n",
    "\n",
    "# Stable nodes\n",
    "stable_nodes = [i for i in range(1, num_nodes + 1) if i not in [2, 4, 5, 20]]\n",
    "for node in stable_nodes:\n",
    "    data[f'mote{node}'] = np.cumsum(np.random.normal(0, 0.1, num_time_steps))\n",
    "\n",
    "# Gradual change nodes\n",
    "gradual_nodes = [node for node in stable_nodes if node % 2 == 0]  # Just for illustration\n",
    "for node in gradual_nodes:\n",
    "    data[f'mote{node}'] = np.cumsum(np.random.normal(0.1, 0.5, num_time_steps))\n",
    "\n",
    "# Rapid change nodes\n",
    "rapid_nodes = [2, 4, 5, 20]\n",
    "for node in rapid_nodes:\n",
    "    values = []\n",
    "    value = 0\n",
    "    for t in range(num_time_steps):\n",
    "        if np.random.rand() < 0.1:  # 10% chance of a significant change\n",
    "            value += np.random.normal(5, 2)\n",
    "        else:\n",
    "            value += np.random.normal(0, 2)\n",
    "        values.append(value)\n",
    "    data[f'mote{node}'] = values\n",
    "\n",
    "# Save the dataset\n",
    "data.to_csv('simulated_sensor_data.csv', index=False)\n"
   ]
  }
 ],
 "metadata": {
  "language_info": {
   "name": "python"
  }
 },
 "nbformat": 4,
 "nbformat_minor": 2
}
