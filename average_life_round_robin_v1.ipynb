{
 "cells": [
  {
   "cell_type": "code",
   "execution_count": null,
   "metadata": {},
   "outputs": [],
   "source": [
    "import numpy as np\n",
    "\n",
    "# Energy parameters in Joules\n",
    "E_max = 162000  # Battery capacity in Joules\n",
    "E_t = 50 / 1000  # Transmission energy in Joules\n",
    "E_s = 10 / 1000  # Sensing energy in Joules\n",
    "E_w = 10 / 1000  # Wake-up energy in Joules\n",
    "E_0 = 1 / 1000   # Sleep energy in Joules\n",
    "\n",
    "def run_simulation_round_robin_lifetime(transmission_probs, num_nodes, M):\n",
    "    polling_counts = {mote: 0 for mote in range(1, num_nodes + 1)}  # Track polling counts for each node\n",
    "    total_packets_rr = 0  # Track the total number of successfully transmitted packets\n",
    "\n",
    "    def transmission_success(prob):\n",
    "        return np.random.rand() < prob\n",
    "\n",
    "    # Run the Round Robin simulation\n",
    "    for t in range(1, len(pivot_df)):\n",
    "        # Poll M nodes in cyclic order\n",
    "        nodes_rr = [(t - 1 + i) % num_nodes + 1 for i in range(M)]\n",
    "        for node_rr in nodes_rr:\n",
    "            if transmission_success(transmission_probs[node_rr - 1]):\n",
    "                total_packets_rr += 1  # Count successful transmission\n",
    "            polling_counts[node_rr] += 1  # Increment polling count\n",
    "\n",
    "    # Calculate polling fraction (fw) for each node\n",
    "    time_steps = len(pivot_df)\n",
    "    fw = {mote: polling_counts[mote] / time_steps for mote in polling_counts}\n",
    "    \n",
    "    # Calculate average lifetime in hours for each node and convert to years\n",
    "    average_lifetime_hours = np.mean([\n",
    "        E_max / (fw[mote] * (E_t + E_s + E_w) + (1 - fw[mote]) * E_0) for mote in fw\n",
    "    ]) / 3600  # Convert from seconds to hours\n",
    "    average_lifetime_years = average_lifetime_hours / 8760  # Convert hours to years\n",
    "\n",
    "    print(f\"Average Sensor Lifetime (years) for Round Robin: {average_lifetime_years:.2f}\")\n",
    "    return average_lifetime_years\n",
    "\n",
    "# Example usage\n",
    "transmission_probs = np.full(num_nodes, 1.0)  # Assume perfect transmission success\n",
    "M = 5  # Number of nodes to poll at each step\n",
    "average_lifetime_rr = run_simulation_round_robin_lifetime(transmission_probs, num_nodes, M)\n"
   ]
  }
 ],
 "metadata": {
  "language_info": {
   "name": "python"
  }
 },
 "nbformat": 4,
 "nbformat_minor": 2
}
