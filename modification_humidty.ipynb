{
 "cells": [
  {
   "cell_type": "code",
   "execution_count": null,
   "metadata": {},
   "outputs": [],
   "source": [
    "import pandas as pd\n",
    "\n",
    "# Read the dataset\n",
    "pivot_df = pd.read_csv('fifty_motes_humidity.csv')\n",
    "\n",
    "# Fill missing values with the column mean\n",
    "pivot_df = pivot_df.apply(lambda x: x.fillna(x.mean()), axis=0)\n",
    "\n",
    "# Select only columns that start with 'mote' and ensure there are 30\n",
    "mote_columns = [col for col in pivot_df.columns if col.startswith('mote')]\n",
    "\n",
    "if len(mote_columns) < 30:\n",
    "    raise ValueError(f\"Dataset has fewer than 30 mote columns. Available columns: {len(mote_columns)}\")\n",
    "\n",
    "selected_columns = mote_columns[:30]  # Take the first 30 mote columns\n",
    "\n",
    "# Filter the DataFrame to keep only the selected columns\n",
    "pivot_df = pivot_df[selected_columns]\n",
    "\n",
    "# Limit the dataset to the first 5000 rows\n",
    "pivot_df = pivot_df.head(5000)\n",
    "\n",
    "# Debugging output\n",
    "print(\"Selected columns:\", selected_columns)\n",
    "print(\"Final DataFrame shape:\", pivot_df.shape)\n"
   ]
  }
 ],
 "metadata": {
  "language_info": {
   "name": "python"
  }
 },
 "nbformat": 4,
 "nbformat_minor": 2
}
