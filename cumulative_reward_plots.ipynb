{
 "cells": [
  {
   "cell_type": "code",
   "execution_count": null,
   "metadata": {},
   "outputs": [],
   "source": [
    "import pandas as pd\n",
    "import numpy as np\n",
    "import matplotlib.pyplot as plt\n",
    "\n",
    "# Load cumulative rewards from CSV files\n",
    "cumulative_rewards_oracle = pd.read_csv('cumulative_rewards_oracle.csv')['cumulative_reward'].values\n",
    "cumulative_rewards_rr = pd.read_csv('cumulative_rewards_round_robin.csv')['cumulative_reward'].values\n",
    "cumulative_rewards_whittle_aoii = pd.read_csv('cumulative_rewards_whittle_aoii.csv')['cumulative_reward'].values\n",
    "cumulative_rewards_whittle_aoi = pd.read_csv('cumulative_rewards_whittle_aoi.csv')['cumulative_reward'].values\n",
    "cumulative_rewards_kalman = pd.read_csv('cumulative_rewards_kalman.csv')['cumulative_reward'].values\n",
    "\n",
    "# Calculate cumulative average rewards for each technique\n",
    "cumulative_average_reward_oracle = np.cumsum(cumulative_rewards_oracle) / (np.arange(len(cumulative_rewards_oracle)) + 1)\n",
    "cumulative_average_reward_rr = np.cumsum(cumulative_rewards_rr) / (np.arange(len(cumulative_rewards_rr)) + 1)\n",
    "cumulative_average_reward_waoii = np.cumsum(cumulative_rewards_whittle_aoii) / (np.arange(len(cumulative_rewards_whittle_aoii)) + 1)\n",
    "cumulative_average_reward_waoi = np.cumsum(cumulative_rewards_whittle_aoi) / (np.arange(len(cumulative_rewards_whittle_aoi)) + 1)\n",
    "cumulative_average_reward_kalman = np.cumsum(cumulative_rewards_kalman) / (np.arange(len(cumulative_rewards_kalman)) + 1)\n",
    "\n",
    "# Calculate regret for each technique by subtracting from the oracle's cumulative average reward\n",
    "regret_rr = cumulative_average_reward_oracle - cumulative_average_reward_rr\n",
    "regret_waoii = cumulative_average_reward_oracle - cumulative_average_reward_waoii\n",
    "regret_waoi = cumulative_average_reward_oracle - cumulative_average_reward_waoi\n",
    "regret_kalman = cumulative_average_reward_oracle - cumulative_average_reward_kalman\n",
    "\n",
    "# Plot the regret over time\n",
    "plt.figure(figsize=(8, 6))\n",
    "plt.plot(range(len(regret_rr)), regret_rr, label='RR Regret', linewidth=2)\n",
    "plt.plot(range(len(regret_waoii)), regret_waoii, label='W-AoII Regret', linewidth=2)\n",
    "plt.plot(range(len(regret_waoi)), regret_waoi, label='W-AoI Regret', linewidth=2)\n",
    "plt.plot(range(len(regret_kalman)), regret_kalman, label='KF Regret', linewidth=2)\n",
    "\n",
    "# Label the plot\n",
    "plt.xlabel('Time Step', fontsize=16)\n",
    "plt.ylabel('Regret', fontsize=16)\n",
    "plt.title('Regret Comparison Across Techniques', fontsize=16, fontweight='bold')\n",
    "plt.legend(fontsize=12)\n",
    "plt.grid(True, which='both', linestyle='--', linewidth=0.7)\n",
    "plt.tick_params(axis='both', which='major', labelsize=14)\n",
    "plt.xlim(0, 5000)  # Adjust this limit as needed based on your data\n",
    "\n",
    "# Save the plot\n",
    "plt.savefig('comparison_regret_over_time.png')\n",
    "plt.show()\n"
   ]
  }
 ],
 "metadata": {
  "language_info": {
   "name": "python"
  }
 },
 "nbformat": 4,
 "nbformat_minor": 2
}
